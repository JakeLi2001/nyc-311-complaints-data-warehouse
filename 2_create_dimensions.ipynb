{
 "cells": [
  {
   "cell_type": "code",
   "execution_count": 1,
   "id": "0fac4b87-b835-4472-8df6-7c5444846d61",
   "metadata": {},
   "outputs": [],
   "source": [
    "from google.cloud import bigquery\n",
    "from google.cloud.exceptions import NotFound\n",
    "import pandas as pd\n",
    "import os\n",
    "import logging\n",
    "from datetime import datetime"
   ]
  },
  {
   "cell_type": "code",
   "execution_count": 12,
   "id": "51e77b3c-ee2d-4f58-b6bf-02380816af0b",
   "metadata": {},
   "outputs": [],
   "source": [
    "# working on creating a for loop that loads all dimensions\n",
    "dim_dict = {\n",
    "    'agency':['agency', 'agency_name'],\n",
    "    'location':['incident_zip', 'intersection_street_1', 'intersection_street_2', 'borough', 'city', 'state']\n",
    "}"
   ]
  },
  {
   "cell_type": "code",
   "execution_count": 18,
   "id": "335a67c9-19d5-4395-a28c-ba1858909ac5",
   "metadata": {},
   "outputs": [
    {
     "data": {
      "text/plain": [
       "'location'"
      ]
     },
     "execution_count": 18,
     "metadata": {},
     "output_type": "execute_result"
    }
   ],
   "source": [
    "list(dim_dict.keys())[1]"
   ]
  },
  {
   "cell_type": "code",
   "execution_count": 2,
   "id": "73b210ac-7c07-47ed-8520-a7219b4c843e",
   "metadata": {},
   "outputs": [],
   "source": [
    "dimension_name = 'agency' # replace with dimension names\n",
    "surrogate_key = f\"{dimension_name}_dim_id\"\n",
    "business_key = f'{dimension_name}_id'\n",
    "\n",
    "gcp_project = 'cis4400-381214' # replace to your own project id\n",
    "bq_dataset = '311_complaints_dataset' # replace to your own dataset name\n",
    "table_name = f\"{dimension_name}_dimension\"\n",
    "dimension_table_path = f\"{gcp_project}.{bq_dataset}.{table_name}\"\n",
    "\n",
    "file_source_path = 'data'"
   ]
  },
  {
   "cell_type": "code",
   "execution_count": 3,
   "id": "d0990204-8c09-4728-8918-e00148cbc75d",
   "metadata": {},
   "outputs": [],
   "source": [
    "for handler in logging.root.handlers[:]:\n",
    "    logging.root.removeHandler(handler)\n",
    "current_date = datetime.today().strftime('%Y%m%d')\n",
    "log_filename = \"_\".join([\"etl\",dimension_name,current_date])+\".log\"\n",
    "logging.basicConfig(filename=log_filename, encoding='utf-8', format='%(asctime)s %(message)s', level=logging.DEBUG)\n",
    "logging.info(\"=========================================================================\")\n",
    "logging.info(f\"Starting ETL Run for dimension {dimension_name} on date {current_date}\")"
   ]
  },
  {
   "cell_type": "code",
   "execution_count": 4,
   "id": "2dfe1f91-cdc3-4f9b-b3a8-6845878a8b07",
   "metadata": {},
   "outputs": [],
   "source": [
    "def load_csv_data_file(logging: logging.Logger, file_source_path: str, file_name: str, df: pd.DataFrame):\n",
    "    file_source = os.path.join(file_source_path, file_name)\n",
    "    logging.info(f\"Reading source data file: {file_source}\")\n",
    "    try:\n",
    "        df = pd.read_csv(file_source)\n",
    "        df = df.rename(columns=str.lower)\n",
    "        logging.info(f\"Read {len(df)} records from source data file: {file_source}\")\n",
    "        return df\n",
    "    except:\n",
    "        logging.error(f\"Failed to read file: {file_source}\")\n",
    "    return df"
   ]
  },
  {
   "cell_type": "code",
   "execution_count": 5,
   "id": "4fd5f676-3372-4054-9cc7-9869774e5ffd",
   "metadata": {},
   "outputs": [],
   "source": [
    "def transform_data(logging: logging.Logger, df: pd.DataFrame):\n",
    "    logging.info(\"Transforming dataframe.\")\n",
    "    column_list = ['agency', 'agency_name'] # replace with columns corresponding to the dimensions\n",
    "    df = df[column_list]\n",
    "    df = df.drop_duplicates()\n",
    "    return df"
   ]
  },
  {
   "cell_type": "code",
   "execution_count": 6,
   "id": "945a2a03-36fe-4130-9e2c-4672d2214bf8",
   "metadata": {},
   "outputs": [],
   "source": [
    "def create_bigquery_client(logging):\n",
    "    try:\n",
    "        bqclient = bigquery.Client.from_service_account_json('keys/new-cis4400-381214-f4f2229d6853.json') # replace with your own SA keys\n",
    "        logging.info(\"Created BigQuery Client: %s\", bqclient)\n",
    "        return bqclient\n",
    "    except Exception as err:\n",
    "        logging.error(\"Failed to create BigQuery Client.\", err)\n",
    "    return bqclient"
   ]
  },
  {
   "cell_type": "code",
   "execution_count": 7,
   "id": "0742b3fc-34af-4c42-a482-9203242ea021",
   "metadata": {},
   "outputs": [],
   "source": [
    "def upload_bigquery_table(logging, bqclient, table_path, write_disposition, df):\n",
    "    try:\n",
    "        logging.info(\"Creating BigQuery Job configuration with write_disposition=%s\", write_disposition)\n",
    "        job_config = bigquery.LoadJobConfig(write_disposition=write_disposition)\n",
    "        logging.info(\"Submitting the BigQuery job\")\n",
    "        job = bqclient.load_table_from_dataframe(df, table_path, job_config=job_config)  \n",
    "        logging.info(\"Job  results: %s\",job.result())\n",
    "    except Exception as err:\n",
    "        logging.error(\"Failed to load BigQuery Table. %s\", err)"
   ]
  },
  {
   "cell_type": "code",
   "execution_count": 8,
   "id": "192573a0-1a96-41a6-a8db-0b455c65a89d",
   "metadata": {},
   "outputs": [],
   "source": [
    "def bigquery_table_exists(bqclient, table_path):  \n",
    "    try:\n",
    "        bqclient.get_table(table_path)\n",
    "        return True\n",
    "    except NotFound:\n",
    "        return False"
   ]
  },
  {
   "cell_type": "code",
   "execution_count": 9,
   "id": "d1a282c2-66af-4fb1-b8ed-77417d03557c",
   "metadata": {},
   "outputs": [],
   "source": [
    "def query_bigquery_table(logging, table_path, bqclient, surrogate_key): \n",
    "    bq_df = pd.DataFrame\n",
    "    sql_query = 'SELECT * EXCEPT ( update_timestamp, '+surrogate_key+') FROM `' + table_path + '`'\n",
    "    logging.info(\"Running query: %s\", sql_query)\n",
    "    try:\n",
    "        bq_df = bqclient.query(sql_query).to_dataframe()\n",
    "    except Exception as err:\n",
    "        logging.info(\"Error querying the table. %s\", err)\n",
    "    return bq_df"
   ]
  },
  {
   "cell_type": "code",
   "execution_count": 10,
   "id": "ed348482-3b38-4062-8c94-1dbac92f235b",
   "metadata": {},
   "outputs": [],
   "source": [
    "def add_surrogate_key(df, dimension_name='agency', offset=1):\n",
    "    df.reset_index(drop=True, inplace=True)\n",
    "    df.insert(0, dimension_name+'_dim_id', df.index+offset)\n",
    "    return df"
   ]
  },
  {
   "cell_type": "code",
   "execution_count": 11,
   "id": "d6caf26a-62b7-451a-bd73-286739c471c9",
   "metadata": {},
   "outputs": [],
   "source": [
    "def add_update_date(df, current_date):\n",
    "    df['update_date'] = pd.to_datetime(current_date)\n",
    "    return df"
   ]
  },
  {
   "cell_type": "code",
   "execution_count": 12,
   "id": "85021ca6-58a2-42d5-8548-e2b1b5d3f3fb",
   "metadata": {},
   "outputs": [],
   "source": [
    "def add_update_timestamp(df):\n",
    "    df['update_timestamp'] = pd.to_datetime('now', utc=True).replace(microsecond=0)\n",
    "    return df"
   ]
  },
  {
   "cell_type": "code",
   "execution_count": 13,
   "id": "91aae451-4b88-4260-beb7-93707fa439ee",
   "metadata": {},
   "outputs": [],
   "source": [
    "def build_new_table(logging, bqclient, dimension_table_path, dimension_name, df):\n",
    "    logging.info(\"Target dimension table %s does not exit\", dimension_table_path)\n",
    "    df = add_surrogate_key(df, dimension_name, 1)\n",
    "    df = add_update_timestamp(df)\n",
    "    upload_bigquery_table(logging, bqclient, dimension_table_path, \"WRITE_TRUNCATE\", df)"
   ]
  },
  {
   "cell_type": "code",
   "execution_count": 14,
   "id": "786f24ad-7bd9-4c59-8941-85375894252e",
   "metadata": {},
   "outputs": [],
   "source": [
    "def insert_existing_table(logging, bqclient, dimension_table_path, dimension_name, surrogate_key, df):\n",
    "    bq_df = pd.DataFrame\n",
    "    logging.info(\"Target dimension table %s exits. Checking for differences.\", dimension_table_path)\n",
    "    bq_df = query_bigquery_table(logging, dimension_table_path, bqclient, surrogate_key)\n",
    "    new_records_df = pd.concat([df, bq_df]).drop_duplicates(keep=False)\n",
    "    logging.info(\"Found %d new records.\", new_records_df.shape[0])\n",
    "    if new_records_df.shape[0] > 0:\n",
    "        new_surrogate_key_value = bq_df.shape[0]+1\n",
    "        new_records_df = add_surrogate_key(new_records_df, dimension_name, new_surrogate_key_value)\n",
    "        new_records_df = add_update_timestamp(new_records_df)\n",
    "        upload_bigquery_table(logging, bqclient, dimension_table_path, \"WRITE_APPEND\", new_records_df)  "
   ]
  },
  {
   "cell_type": "code",
   "execution_count": 15,
   "id": "d1b4d2cd-9725-44a9-88d7-b60422d891c7",
   "metadata": {},
   "outputs": [],
   "source": [
    "if __name__ == \"__main__\":\n",
    "    df = pd.DataFrame\n",
    "    df = load_csv_data_file(logging, file_source_path, \"311_traffic_signal_complaints_2023.csv\", df)\n",
    "    df = transform_data(logging, df)\n",
    "    bqclient = create_bigquery_client(logging)\n",
    "    target_table_exists = bigquery_table_exists(bqclient, dimension_table_path)\n",
    "    if not target_table_exists:\n",
    "        build_new_table(logging, bqclient, dimension_table_path, dimension_name, df)\n",
    "    if target_table_exists:\n",
    "        insert_existing_table(logging, bqclient, dimension_table_path, dimension_name, surrogate_key, df)\n",
    "    logging.shutdown()"
   ]
  },
  {
   "cell_type": "code",
   "execution_count": null,
   "id": "5dbe7faf-bf8b-42a2-98de-ae4728b0fb83",
   "metadata": {},
   "outputs": [],
   "source": []
  },
  {
   "cell_type": "code",
   "execution_count": null,
   "id": "f5f53932-5531-412a-ad92-a3451f78bbd3",
   "metadata": {},
   "outputs": [],
   "source": []
  },
  {
   "cell_type": "code",
   "execution_count": null,
   "id": "887b83ba-caeb-4a7f-aeba-2a1d2cac1e9a",
   "metadata": {},
   "outputs": [],
   "source": []
  }
 ],
 "metadata": {
  "kernelspec": {
   "display_name": "Python [conda env:nyc-311-dw]",
   "language": "python",
   "name": "conda-env-nyc-311-dw-py"
  },
  "language_info": {
   "codemirror_mode": {
    "name": "ipython",
    "version": 3
   },
   "file_extension": ".py",
   "mimetype": "text/x-python",
   "name": "python",
   "nbconvert_exporter": "python",
   "pygments_lexer": "ipython3",
   "version": "3.11.3"
  }
 },
 "nbformat": 4,
 "nbformat_minor": 5
}
