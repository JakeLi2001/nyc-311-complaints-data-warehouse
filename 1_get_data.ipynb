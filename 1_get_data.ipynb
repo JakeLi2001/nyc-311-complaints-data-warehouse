{
 "cells": [
  {
   "cell_type": "code",
   "execution_count": 7,
   "id": "ebd8fd50-ba29-48a4-b974-c985b1ef617c",
   "metadata": {
    "tags": []
   },
   "outputs": [],
   "source": [
    "import pandas as pd\n",
    "from sodapy import Socrata\n",
    "from keys import nyc_311_key"
   ]
  },
  {
   "cell_type": "markdown",
   "id": "25270b9b-3364-432d-babd-b4ea10e88f2a",
   "metadata": {},
   "source": [
    "# Set up the client"
   ]
  },
  {
   "cell_type": "code",
   "execution_count": 10,
   "id": "c5738df7-6df4-4744-8f19-bf2b79cc7e12",
   "metadata": {
    "tags": []
   },
   "outputs": [],
   "source": [
    "data_url = 'data.cityofnewyork.us'\n",
    "app_token = nyc_311_key.api_app_token\n",
    "\n",
    "client = Socrata(data_url, app_token)\n",
    "client.timeout = 240"
   ]
  },
  {
   "cell_type": "markdown",
   "id": "2498d77b-d9db-4277-88bd-90c849621bd5",
   "metadata": {},
   "source": [
    "# Query and export data"
   ]
  },
  {
   "cell_type": "code",
   "execution_count": 21,
   "id": "f97f7579-5e71-4016-bf53-3f070ebc6b53",
   "metadata": {
    "tags": []
   },
   "outputs": [
    {
     "name": "stdout",
     "output_type": "stream",
     "text": [
      "Fetching Traffic Signal Condition complaints data from 2019\n",
      "Fetching Traffic Signal Condition complaints data from 2020\n",
      "Fetching Traffic Signal Condition complaints data from 2021\n",
      "Fetching Traffic Signal Condition complaints data from 2022\n",
      "Fetching Traffic Signal Condition complaints data from 2023\n"
     ]
    }
   ],
   "source": [
    "for x in range(2019, 2024):\n",
    "    # get data\n",
    "    start = 0\n",
    "    chunk_size = 2000\n",
    "    results = []\n",
    "\n",
    "    where_clause = f\"complaint_type LIKE 'Traffic Signal Condition%' AND date_extract_y(created_date)={x}\"\n",
    "    data_set = 'erm2-nwe9'\n",
    "    record_count = client.get(data_set, where=where_clause, select='COUNT(*)')\n",
    "    print(f'Fetching Traffic Signal Condition complaints data from {x}')\n",
    "    \n",
    "    while True:\n",
    "        results.extend(client.get(data_set, where=where_clause, offset=start, limit=chunk_size))\n",
    "        start += chunk_size\n",
    "        if (start > int(record_count[0]['COUNT'])):\n",
    "            break\n",
    "    \n",
    "    # export data to csv\n",
    "    df = pd.DataFrame.from_records(results)\n",
    "    df.to_csv(f'data/311_bicycle_complaints_{x}.csv', index=False)"
   ]
  },
  {
   "cell_type": "code",
   "execution_count": null,
   "id": "c30e372b-cf7b-4006-9de6-e39a42f6c641",
   "metadata": {},
   "outputs": [],
   "source": []
  },
  {
   "cell_type": "code",
   "execution_count": null,
   "id": "29b6d5a1-52df-4c8f-a4c6-7b8c20f5039e",
   "metadata": {},
   "outputs": [],
   "source": []
  },
  {
   "cell_type": "code",
   "execution_count": null,
   "id": "afec14d4-746c-4668-98d1-0feafcfd008f",
   "metadata": {},
   "outputs": [],
   "source": []
  }
 ],
 "metadata": {
  "kernelspec": {
   "display_name": "nyc-311-dw",
   "language": "python",
   "name": "nyc-311-dw"
  },
  "language_info": {
   "codemirror_mode": {
    "name": "ipython",
    "version": 3
   },
   "file_extension": ".py",
   "mimetype": "text/x-python",
   "name": "python",
   "nbconvert_exporter": "python",
   "pygments_lexer": "ipython3",
   "version": "3.11.3"
  }
 },
 "nbformat": 4,
 "nbformat_minor": 5
}
