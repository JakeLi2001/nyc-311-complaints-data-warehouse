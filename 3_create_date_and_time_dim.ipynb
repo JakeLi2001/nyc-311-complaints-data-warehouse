{
 "cells": [
  {
   "cell_type": "markdown",
   "id": "51f64fb1-ed96-46ed-925b-26a22ead7eb8",
   "metadata": {},
   "source": [
    "# Import Libraries"
   ]
  },
  {
   "cell_type": "code",
   "execution_count": 69,
   "id": "9c51afe1-36bb-4ffb-98aa-d8d34054a6a7",
   "metadata": {},
   "outputs": [],
   "source": [
    "from google.cloud import bigquery\n",
    "from google.cloud.exceptions import NotFound\n",
    "import pandas as pd\n",
    "import os\n",
    "import logging\n",
    "from datetime import datetime"
   ]
  },
  {
   "cell_type": "markdown",
   "id": "8e2df7ba-f695-4af2-b2d4-d4aca2270c3b",
   "metadata": {},
   "source": [
    "# Create Functions"
   ]
  },
  {
   "cell_type": "code",
   "execution_count": 94,
   "id": "9772f880-c87b-4f25-9354-7b8951500123",
   "metadata": {},
   "outputs": [],
   "source": [
    "def generate_time_dimension(start, end):\n",
    "    \"\"\"\n",
    "    generate_time_dimension\n",
    "    Creates a list of all possible time in a day\n",
    "    Then adds additional columns of hour, minute, and second\n",
    "    Returns a new dataframe\n",
    "    \"\"\"\n",
    "    seconds = pd.period_range(start, end, freq='S')\n",
    "    seconds = seconds.to_timestamp(freq='S')\n",
    "    df = pd.DataFrame({\"full_time\": seconds})\n",
    "    df[\"hour\"] = df.full_time.dt.strftime(\"%H\")\n",
    "    df[\"minute\"] = df.full_time.dt.strftime(\"%M\")\n",
    "    df[\"second\"] = df.full_time.dt.strftime(\"%S\")\n",
    "    df['full_time'] = df['full_time'].apply(lambda x: x.time())\n",
    "    return df"
   ]
  },
  {
   "cell_type": "code",
   "execution_count": 70,
   "id": "09d6a7de-0808-4b25-a91e-b27224576061",
   "metadata": {},
   "outputs": [],
   "source": [
    "def generate_date_dimension(start, end):\n",
    "    \"\"\"\n",
    "    generate_date_dimension\n",
    "    Creates a calendar of all dates between 'start' and 'end'\n",
    "    Then adds additional columns of day, week and month information in various formats\n",
    "    See this for format details: https://docs.python.org/3/library/datetime.html#strftime-and-strptime-format-codes\n",
    "    Returns a new dataframe\n",
    "    \"\"\"\n",
    "    df = pd.DataFrame({\"full_date\": pd.date_range(start, end)})\n",
    "    df[\"weekday_name\"] = df.full_date.dt.strftime(\"%A\")\n",
    "    df[\"day_of_week\"] = df.full_date.dt.strftime(\"%w\")\n",
    "    df[\"month_name\"] = df.full_date.dt.strftime(\"%B\")\n",
    "    df[\"day_of_month\"] = df.full_date.dt.strftime(\"%d\")\n",
    "    df[\"month_of_year\"] = df.full_date.dt.strftime(\"%m\")\n",
    "    df[\"quarter\"] = df.full_date.dt.quarter\n",
    "    df[\"year\"] = df.full_date.dt.strftime(\"%Y\")\n",
    "    return df"
   ]
  },
  {
   "cell_type": "code",
   "execution_count": 72,
   "id": "39b5b55c-a49a-4194-a866-8fbbd9bed987",
   "metadata": {},
   "outputs": [],
   "source": [
    "def create_bigquery_client(logging):\n",
    "    \"\"\"\n",
    "    create_bigquery_client\n",
    "    Creates a BigQuery client using the path to the service account key file\n",
    "    for credentials.\n",
    "    Returns the BigQuery client object\n",
    "    \"\"\"\n",
    "    try:\n",
    "        bqclient = bigquery.Client.from_service_account_json('keys/new-cis4400-381214-f4f2229d6853.json') # replace with your own SA keys\n",
    "        logging.info(\"Created BigQuery Client: %s\",bqclient)\n",
    "        return bqclient\n",
    "    except Exception as err:\n",
    "        logging.error(\"Failed to create BigQuery Client.\", err)\n",
    "        os._exit(-1)\n",
    "    return bqclient"
   ]
  },
  {
   "cell_type": "code",
   "execution_count": 73,
   "id": "bde95c36-2763-4af7-a84f-16b3560388bc",
   "metadata": {},
   "outputs": [],
   "source": [
    "def upload_bigquery_table(logging, bqclient, table_path, write_disposition, df):\n",
    "    \"\"\"\n",
    "    upload_bigquery_table\n",
    "    Accepts a path to a BigQuery table, the write disposition and a dataframe\n",
    "    Loads the data into the BigQuery table from the dataframe.\n",
    "    for credentials.\n",
    "    The write disposition is either\n",
    "    write_disposition=\"WRITE_TRUNCATE\"  Erase the target data and load all new data.   \n",
    "    write_disposition=\"WRITE_APPEND\"    Append to the existing table\n",
    "    \"\"\"\n",
    "    try:\n",
    "        logging.info(\"Creating BigQuery Job configuration with write_disposition=%s\", write_disposition)\n",
    "        job_config = bigquery.LoadJobConfig(write_disposition=write_disposition)\n",
    "        logging.info(\"Submitting the BigQuery job\")\n",
    "        job = bqclient.load_table_from_dataframe(df, table_path, job_config=job_config)  \n",
    "        logging.info(\"Job  results: %s\",job.result())\n",
    "    except Exception as err:\n",
    "        logging.error(\"Failed to load BigQuery Table. %s\", err)"
   ]
  },
  {
   "cell_type": "code",
   "execution_count": 74,
   "id": "67adddd8-2caa-47e0-9258-c912f101246b",
   "metadata": {},
   "outputs": [],
   "source": [
    "def bigquery_table_exists(bqclient, table_path):\n",
    "    \"\"\"\n",
    "    bigquery_table_exists\n",
    "    Accepts a path to a BigQuery table\n",
    "    Checks if the BigQuery table exists.\n",
    "    Returns True or False\n",
    "    \"\"\"    \n",
    "    try:\n",
    "        bqclient.get_table(table_path)  # Make an API request.\n",
    "        return True\n",
    "    except NotFound:\n",
    "        return False"
   ]
  },
  {
   "cell_type": "code",
   "execution_count": 75,
   "id": "bec41b8b-813e-4241-a907-06929337798d",
   "metadata": {},
   "outputs": [],
   "source": [
    "def query_bigquery_table(logging, table_path, bqclient, surrogate_key):\n",
    "    \"\"\"\n",
    "    query_bigquery_table\n",
    "    Accepts a path to a BigQuery table and the name of the surrogate key\n",
    "    Queries the BigQuery table but leaves out the update_timestamp and surrogate key columns\n",
    "    Returns the dataframe\n",
    "    \"\"\"    \n",
    "    bq_df = pd.DataFrame\n",
    "    sql_query = 'SELECT * EXCEPT ( update_timestamp, ' + surrogate_key  +') FROM `' + table_path + '`'\n",
    "    logging.info(\"Running query: %s\", sql_query)\n",
    "    try:\n",
    "        bq_df = bqclient.query(sql_query).to_dataframe()\n",
    "    except Exception as err:\n",
    "        logging.info(\"Error querying the table. %s\", err)\n",
    "    return bq_df"
   ]
  },
  {
   "cell_type": "code",
   "execution_count": 76,
   "id": "2091790b-aca6-4082-a349-ba4abb9a4689",
   "metadata": {},
   "outputs": [],
   "source": [
    "def add_surrogate_key(df, dimension_name='customers', offset=1):\n",
    "    \"\"\"\n",
    "    add_surrogate_key  \n",
    "    Accepts a data frame and inserts an integer identifier as the first column\n",
    "    Returns the modified dataframe\n",
    "    \"\"\"\n",
    "    df.reset_index(drop=True, inplace=True)\n",
    "    df.insert(0, dimension_name+'_dim_id', df.index+offset)\n",
    "    return df"
   ]
  },
  {
   "cell_type": "code",
   "execution_count": 77,
   "id": "b2841066-2c12-451c-9cc4-3540aeb1d9a3",
   "metadata": {},
   "outputs": [],
   "source": [
    "def add_update_date(df, current_date):\n",
    "    \"\"\"\n",
    "    add_update_date\n",
    "    Accepts a data frame and inserts the current date as a new field\n",
    "    Returns the modified dataframe\n",
    "    \"\"\"\n",
    "    df['update_date'] = pd.to_datetime(current_date)\n",
    "    return df"
   ]
  },
  {
   "cell_type": "code",
   "execution_count": 78,
   "id": "75989514-05f3-48b4-a140-219062f1519a",
   "metadata": {},
   "outputs": [],
   "source": [
    "def add_update_timestamp(df):\n",
    "    \"\"\"\n",
    "    add_update_timestamp\n",
    "    Accepts a data frame and inserts the current datetime as a new field\n",
    "    Returns the modified dataframe\n",
    "    \"\"\"\n",
    "    df['update_timestamp'] = pd.Timestamp('now', tz='utc').replace(microsecond=0)\n",
    "    return df"
   ]
  },
  {
   "cell_type": "code",
   "execution_count": 79,
   "id": "fe770134-9f7e-4598-a878-2c68386d6542",
   "metadata": {},
   "outputs": [],
   "source": [
    "def build_new_table(logging, bqclient, dimension_table_path, dimension_name, df):\n",
    "    \"\"\"\n",
    "    build_new_table\n",
    "    Accepts a path to a dimensional table, the dimension name and a data frame \n",
    "    Add the surrogate key and a record timestamp to the data frame\n",
    "    Inserts the contents of the dataframe to the dimensional table.\n",
    "    \"\"\"\n",
    "    logging.info(\"Target dimension table %s does not exit\", dimension_table_path)\n",
    "    df = add_surrogate_key(df, dimension_name, 1)\n",
    "    df = add_update_timestamp(df)\n",
    "    upload_bigquery_table(logging, bqclient, dimension_table_path, \"WRITE_TRUNCATE\", df)"
   ]
  },
  {
   "cell_type": "code",
   "execution_count": 80,
   "id": "4c30f4f0-7e40-457f-ba73-f4797c87bfef",
   "metadata": {},
   "outputs": [],
   "source": [
    "def insert_existing_table(logging, bqclient, dimension_table_path, dimension_name, surrogate_key, df):\n",
    "    \"\"\"\n",
    "    insert_existing_table\n",
    "    Accepts a path to a dimensional table, the dimension name and a data frame \n",
    "    Compares the new data to the existing data in the table.\n",
    "    Inserts the new/modified records to the existing table\n",
    "    \"\"\"\n",
    "    bq_df = pd.DataFrame\n",
    "    logging.info(\"Target dimension table %s exits. Checking for differences.\", dimension_table_path)\n",
    "    bq_df = query_bigquery_table(logging, dimension_table_path, bqclient, surrogate_key)\n",
    "    new_records_df = df[~df.apply(tuple,1).isin(bq_df.apply(tuple,1))]\n",
    "    logging.info(\"Found %d new records.\", new_records_df.shape[0])\n",
    "    if new_records_df.shape[0] > 0:\n",
    "        new_surrogate_key_value = bq_df.shape[0]+1\n",
    "        new_records_df = add_surrogate_key(new_records_df, dimension_name, new_surrogate_key_value)\n",
    "        new_records_df = add_update_timestamp(new_records_df)\n",
    "        upload_bigquery_table(logging, bqclient, dimension_table_path, \"WRITE_APPEND\", new_records_df)    "
   ]
  },
  {
   "cell_type": "markdown",
   "id": "2f60b11d-87e9-4c97-bfcb-100e0cd8c568",
   "metadata": {},
   "source": [
    "# Generate Date and Time Dimensions"
   ]
  },
  {
   "cell_type": "markdown",
   "id": "372ea8c2-56b5-4253-bd29-19dfe547f91c",
   "metadata": {},
   "source": [
    "## For 311 Complaints Data"
   ]
  },
  {
   "cell_type": "code",
   "execution_count": 2,
   "id": "e944a080-defa-4ab7-81fb-6995725499de",
   "metadata": {},
   "outputs": [],
   "source": [
    "dimension_name = 'date'\n",
    "surrogate_key = dimension_name + '_dim_id'\n",
    "business_key = dimension_name + '_id'\n",
    "\n",
    "gcp_project = 'cis4400-381214' # replace to your own project id\n",
    "bq_dataset = '311_complaints_dataset' # replace to your own dataset name\n",
    "table_name = dimension_name+'_dimension'\n",
    "\n",
    "dimension_table_path = \".\".join([gcp_project,bq_dataset,table_name])"
   ]
  },
  {
   "cell_type": "code",
   "execution_count": 3,
   "id": "d0a8b856-f02e-4b19-a848-e7daff17a9d5",
   "metadata": {},
   "outputs": [],
   "source": [
    "# Set up logging\n",
    "current_date = datetime.today().strftime('%Y%m%d')\n",
    "log_filename = \"_\".join([\"etl\",dimension_name,current_date]) + \".log\"\n",
    "logging.basicConfig(filename=log_filename, encoding='utf-8', format='%(asctime)s %(message)s', level=logging.DEBUG)\n",
    "logging.info(\"=========================================================================\")\n",
    "logging.info(\"Starting ETL Run for dimension \" + dimension_name + \" on date \" + current_date)"
   ]
  },
  {
   "cell_type": "code",
   "execution_count": 14,
   "id": "32bbea77-e5a8-49e0-a8f6-b08552cff065",
   "metadata": {},
   "outputs": [],
   "source": [
    "# date dimension\n",
    "if __name__ == \"__main__\":\n",
    "    df = pd.DataFrame\n",
    "    df = generate_date_dimension(start='2019-01-01', end='2023-12-31')\n",
    "    bqclient = create_bigquery_client(logging)\n",
    "    target_table_exists = bigquery_table_exists(bqclient, dimension_table_path  )\n",
    "    if not target_table_exists:\n",
    "        build_new_table(logging, bqclient, dimension_table_path, dimension_name, df)\n",
    "    if target_table_exists:\n",
    "        print(\"Date dimension already exists. Will not overwrite it\")\n",
    "    logging.shutdown()"
   ]
  },
  {
   "cell_type": "markdown",
   "id": "e1b0d1bf-ebfb-449b-90ae-0550575b2e15",
   "metadata": {},
   "source": [
    "## For Motor Vehicle Collision Data "
   ]
  },
  {
   "cell_type": "code",
   "execution_count": 81,
   "id": "c8cb7673-c389-4462-96b3-96e971f1d314",
   "metadata": {},
   "outputs": [],
   "source": [
    "gcp_project = 'cis4400-381214' # replace to your own project id\n",
    "bq_dataset = 'motor_vehicle_collision_dataset' # replace to your own dataset name\n",
    "\n",
    "dimension_name = 'date'\n",
    "surrogate_key = dimension_name + '_dim_id'\n",
    "business_key = dimension_name + '_id'\n",
    "table_name = dimension_name+'_dimension'\n",
    "dimension_table_path = \".\".join([gcp_project,bq_dataset,table_name])"
   ]
  },
  {
   "cell_type": "code",
   "execution_count": null,
   "id": "ffdf0efd-5c4e-4194-a0b3-921d6dbab201",
   "metadata": {},
   "outputs": [],
   "source": [
    "# Set up logging\n",
    "current_date = datetime.today().strftime('%Y%m%d')\n",
    "log_filename = \"_\".join([\"etl\",dimension_name,current_date]) + \".log\"\n",
    "logging.basicConfig(filename=log_filename, encoding='utf-8', format='%(asctime)s %(message)s', level=logging.DEBUG)\n",
    "logging.info(\"=========================================================================\")\n",
    "logging.info(\"Starting ETL Run for dimension \" + dimension_name + \" on date \" + current_date)"
   ]
  },
  {
   "cell_type": "code",
   "execution_count": 82,
   "id": "8d7daf01-fe49-46f7-9ffb-963a2143ac08",
   "metadata": {},
   "outputs": [],
   "source": [
    "# date dimension\n",
    "if __name__ == \"__main__\":\n",
    "    df = pd.DataFrame\n",
    "    df = generate_date_dimension(start='2019-01-01', end='2023-12-31')\n",
    "    bqclient = create_bigquery_client(logging)\n",
    "    target_table_exists = bigquery_table_exists(bqclient, dimension_table_path  )\n",
    "    if not target_table_exists:\n",
    "        build_new_table(logging, bqclient, dimension_table_path, dimension_name, df)\n",
    "    if target_table_exists:\n",
    "        print(\"Date dimension already exists. Will not overwrite it\")\n",
    "    logging.shutdown()"
   ]
  },
  {
   "cell_type": "code",
   "execution_count": 95,
   "id": "46f67669-34ec-4551-b42f-bacf3376fc30",
   "metadata": {},
   "outputs": [],
   "source": [
    "dimension_name = 'time'\n",
    "surrogate_key = dimension_name + '_dim_id'\n",
    "business_key = dimension_name + '_id'\n",
    "table_name = dimension_name+'_dimension'\n",
    "dimension_table_path = \".\".join([gcp_project,bq_dataset,table_name])"
   ]
  },
  {
   "cell_type": "code",
   "execution_count": 96,
   "id": "63229240-856e-4670-acab-d71d8f7767d4",
   "metadata": {},
   "outputs": [],
   "source": [
    "# time dimension\n",
    "if __name__ == \"__main__\":\n",
    "    df = pd.DataFrame\n",
    "    df = generate_time_dimension(start='2019-01-01 00:00:00', end='2019-01-01 23:59:59')\n",
    "    bqclient = create_bigquery_client(logging)\n",
    "    target_table_exists = bigquery_table_exists(bqclient, dimension_table_path  )\n",
    "    if not target_table_exists:\n",
    "        build_new_table(logging, bqclient, dimension_table_path, dimension_name, df)\n",
    "    if target_table_exists:\n",
    "        print(\"Time dimension already exists. Will not overwrite it\")\n",
    "    logging.shutdown()"
   ]
  }
 ],
 "metadata": {
  "kernelspec": {
   "display_name": "Python [conda env:nyc-311-dw]",
   "language": "python",
   "name": "conda-env-nyc-311-dw-py"
  },
  "language_info": {
   "codemirror_mode": {
    "name": "ipython",
    "version": 3
   },
   "file_extension": ".py",
   "mimetype": "text/x-python",
   "name": "python",
   "nbconvert_exporter": "python",
   "pygments_lexer": "ipython3",
   "version": "3.11.3"
  }
 },
 "nbformat": 4,
 "nbformat_minor": 5
}
